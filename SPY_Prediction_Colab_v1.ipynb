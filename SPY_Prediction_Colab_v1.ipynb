{
  "cells": [
    {
      "cell_type": "code",
      "execution_count": null,
      "metadata": {
        "vscode": {
          "languageId": "plaintext"
        }
      },
      "outputs": [],
      "source": [
        "# 🚀 SPY Prediction Model v1 - Multi-Timeframe Analysis\n",
        "\n",
        "**Daygent Trading Intelligence Platform**\n",
        "\n",
        "This notebook trains machine learning models to predict SPY price direction using:\n",
        "- **7 Timeframes**: 1m, 5m, 15m, 30m, 1h, 4h, 1d\n",
        "- **Raw OHLCV Vectors**: Direct price/volume data (5 dimensions)\n",
        "- **ISO Vectors**: Isolation Forest features (4 dimensions)\n",
        "- **Binary Labels**: Future price direction (1 = up, 0 = down/flat)\n",
        "\n",
        "## 🎯 Models Trained:\n",
        "1. **Random Forest**\n",
        "2. **Gradient Boosting**\n",
        "3. **XGBoost**\n",
        "4. **Logistic Regression**\n",
        "5. **LSTM Neural Network**\n"
      ]
    },
    {
      "cell_type": "code",
      "execution_count": null,
      "metadata": {
        "vscode": {
          "languageId": "plaintext"
        }
      },
      "outputs": [],
      "source": [
        "## 📦 Setup & Installation\n"
      ]
    },
    {
      "cell_type": "code",
      "execution_count": null,
      "metadata": {},
      "outputs": [],
      "source": [
        "# Install required packages\n",
        "!pip install psycopg2-binary sqlalchemy pandas numpy scikit-learn xgboost tensorflow matplotlib seaborn\n",
        "\n",
        "# Import libraries\n",
        "import pandas as pd\n",
        "import numpy as np\n",
        "import psycopg2\n",
        "from sqlalchemy import create_engine\n",
        "import warnings\n",
        "warnings.filterwarnings('ignore')\n",
        "\n",
        "# ML libraries\n",
        "from sklearn.model_selection import train_test_split\n",
        "from sklearn.preprocessing import StandardScaler\n",
        "from sklearn.ensemble import RandomForestClassifier, GradientBoostingClassifier\n",
        "from sklearn.linear_model import LogisticRegression\n",
        "from sklearn.metrics import classification_report, confusion_matrix, roc_auc_score, accuracy_score\n",
        "import xgboost as xgb\n",
        "from sklearn.utils.class_weight import compute_class_weight\n",
        "\n",
        "# Deep learning\n",
        "import tensorflow as tf\n",
        "from tensorflow.keras.models import Sequential\n",
        "from tensorflow.keras.layers import Dense, Dropout, LSTM\n",
        "from tensorflow.keras.optimizers import Adam\n",
        "from tensorflow.keras.callbacks import EarlyStopping, ReduceLROnPlateau\n",
        "\n",
        "# Visualization\n",
        "import matplotlib.pyplot as plt\n",
        "import seaborn as sns\n",
        "plt.style.use('seaborn-v0_8')\n",
        "\n",
        "print(\"✅ All packages installed successfully!\")\n",
        "print(f\"📊 TensorFlow version: {tf.__version__}\")\n",
        "print(f\"🐍 Pandas version: {pd.__version__}\")\n"
      ]
    }
  ],
  "metadata": {
    "language_info": {
      "name": "python"
    }
  },
  "nbformat": 4,
  "nbformat_minor": 2
}
