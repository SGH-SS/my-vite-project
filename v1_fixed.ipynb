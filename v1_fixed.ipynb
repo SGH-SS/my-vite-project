{
  "cells": [
    {
      "cell_type": "code",
      "execution_count": null,
      "metadata": {
        "vscode": {
          "languageId": "plaintext"
        }
      },
      "outputs": [],
      "source": [
        "# Training v1 SPY Prediction Model on Google Colab (Free)\n",
        "\n",
        "This notebook trains your v1 SPY prediction model by securely exposing your local PostgreSQL (TimescaleDB) database to Colab using ngrok (free tier). Follow these steps carefully.\n",
        "\n",
        "**Key Details from Your Setup:**\n",
        "- **Database Port**: 5433 (confirmed by Docker container `tsdb` running `timescale/timescaledb-ha`).\n",
        "- **Database Name**: `trading_data` (as shown in pgAdmin).\n",
        "- **Tables**: Located in the `backtest` schema (e.g., `backtest.spy_1m`, `backtest.spy_5m`, etc.).\n",
        "- **TimescaleDB**: Your database uses the `timescaledb` extension, optimized for time-series data.\n",
        "- **Connection Method**: ngrok tunnel (free tier - no payment required).\n"
      ]
    },
    {
      "cell_type": "code",
      "execution_count": null,
      "metadata": {
        "vscode": {
          "languageId": "plaintext"
        }
      },
      "outputs": [],
      "source": [
        "## Step 1: Prerequisites (Local Machine)\n",
        "- **Install ngrok**: \n",
        "  - Go to [ngrok.com](https://ngrok.com) and create a free account\n",
        "  - Download ngrok for your operating system\n",
        "  - Extract and place in your PATH, or note the location\n",
        "- **Get ngrok authtoken**: \n",
        "  - Login to your ngrok dashboard\n",
        "  - Copy your authtoken from the \"Your Authtoken\" section\n",
        "- **Configure ngrok**: Run `ngrok config add-authtoken <your_token>` on your local machine\n",
        "- **Docker Confirmation**: Your TimescaleDB container (`tsdb`) is running on port 5433, as seen in Docker Desktop.\n",
        "- **No router configuration needed**: ngrok handles all networking automatically!\n"
      ]
    },
    {
      "cell_type": "code",
      "execution_count": null,
      "metadata": {
        "vscode": {
          "languageId": "plaintext"
        }
      },
      "outputs": [],
      "source": [
        "## Step 2: Start ngrok tunnel (Local Machine)\n",
        "Start the ngrok tunnel on your local machine to expose your database:\n"
      ]
    },
    {
      "cell_type": "code",
      "execution_count": null,
      "metadata": {},
      "outputs": [],
      "source": [
        "On your LOCAL MACHINE, open a terminal/command prompt and run:\n",
        "\n",
        "ngrok tcp 5433\n",
        "\n",
        "This will create a tunnel to your local database on port 5433.\n",
        "Copy the forwarding address (something like tcp://0.tcp.ngrok.io:12345)\n",
        "You'll need this for the database connection in the next steps.\n",
        "\n",
        "Example output:\n",
        "Session Status    online\n",
        "Forwarding        tcp://0.tcp.ngrok.io:12345 -> localhost:5433\n",
        "\n",
        "Keep this terminal open during the entire training process!\n"
      ]
    },
    {
      "cell_type": "code",
      "execution_count": null,
      "metadata": {},
      "outputs": [],
      "source": [
        "## Step 3: Get ngrok connection details\n",
        "After starting ngrok on your local machine, you should see output like:\n",
        "```\n",
        "Forwarding        tcp://0.tcp.ngrok.io:12345 -> localhost:5433\n",
        "```\n",
        "\n",
        "- Copy the hostname: `0.tcp.ngrok.io`\n",
        "- Copy the port: `12345`\n",
        "- You'll use these in the database connection below\n"
      ]
    },
    {
      "cell_type": "code",
      "execution_count": null,
      "metadata": {},
      "outputs": [],
      "source": [
        "# No code needed here - the ngrok tunnel runs on your local machine\n",
        "# Make sure you have started ngrok with: ngrok tcp 5433\n",
        "# and copied the forwarding URL before proceeding to the next step\n",
        "print(\"Ensure ngrok is running on your local machine: ngrok tcp 5433\")\n"
      ]
    },
    {
      "cell_type": "code",
      "execution_count": null,
      "metadata": {},
      "outputs": [],
      "source": [
        "## Step 4: Prepare ngrok connection details\n",
        "From your ngrok output, extract the connection details:\n",
        "\n",
        "**Example ngrok output:**\n",
        "```\n",
        "Forwarding        tcp://0.tcp.ngrok.io:12345 -> localhost:5433\n",
        "```\n",
        "\n",
        "**Extract these values:**\n",
        "- **Host**: `0.tcp.ngrok.io` (everything before the colon)\n",
        "- **Port**: `12345` (everything after the colon)\n",
        "\n",
        "You'll use these values in the database connection string in the next step.\n"
      ]
    },
    {
      "cell_type": "code",
      "execution_count": null,
      "metadata": {},
      "outputs": [],
      "source": [
        "## Step 5: Install Database Libraries\n"
      ]
    },
    {
      "cell_type": "code",
      "execution_count": null,
      "metadata": {},
      "outputs": [],
      "source": [
        "!pip install sqlalchemy psycopg2-binary pandas --quiet\n"
      ]
    },
    {
      "cell_type": "code",
      "execution_count": null,
      "metadata": {},
      "outputs": [],
      "source": [
        "## Step 6: Connect to Database via ngrok\n",
        "- Update the credentials (`user`, `password`) to match your local PostgreSQL setup.\n",
        "- Replace `NGROK_HOST` and `NGROK_PORT` with the values from your ngrok output.\n",
        "- The connection uses the ngrok tunnel to reach your local database.\n"
      ]
    },
    {
      "cell_type": "code",
      "execution_count": null,
      "metadata": {},
      "outputs": [],
      "source": [
        "from sqlalchemy import create_engine\n",
        "\n",
        "# Replace with your actual database credentials and ngrok details\n",
        "# Get NGROK_HOST and NGROK_PORT from your ngrok output (e.g., 0.tcp.ngrok.io and 12345)\n",
        "NGROK_HOST = \"0.tcp.ngrok.io\"  # Replace with your ngrok host\n",
        "NGROK_PORT = \"12345\"           # Replace with your ngrok port\n",
        "DB_USER = \"user\"               # Replace with your database username\n",
        "DB_PASSWORD = \"password\"       # Replace with your database password\n",
        "\n",
        "# Create connection string using ngrok tunnel\n",
        "connection_string = f'postgresql://{DB_USER}:{DB_PASSWORD}@{NGROK_HOST}:{NGROK_PORT}/trading_data'\n",
        "engine = create_engine(connection_string)\n",
        "\n",
        "print(f\"Connecting to: {NGROK_HOST}:{NGROK_PORT}\")\n",
        "\n",
        "# Test connection\n",
        "try:\n",
        "    with engine.connect() as connection:\n",
        "        result = connection.execute(\"SELECT 1\")\n",
        "        print(\"Connection successful:\", result.fetchone())\n",
        "        print(\"✅ Database connection established via ngrok!\")\n",
        "except Exception as e:\n",
        "    print(f\"❌ Connection failed: {e}\")\n",
        "    print(\"Make sure ngrok is running and the credentials are correct\")\n"
      ]
    },
    {
      "cell_type": "code",
      "execution_count": null,
      "metadata": {},
      "outputs": [],
      "source": [
        "## Step 7: Load SPY Data from `backtest` Schema\n",
        "- Loads data for all timeframes into a dictionary of DataFrames.\n",
        "- Queries are updated to use the `backtest` schema (e.g., `SELECT * FROM backtest.spy_1m`).\n"
      ]
    },
    {
      "cell_type": "code",
      "execution_count": null,
      "metadata": {},
      "outputs": [],
      "source": [
        "import pandas as pd\n",
        "\n",
        "timeframes = ['1m', '5m', '15m', '30m', '1h', '4h', '1d']\n",
        "data = {}\n",
        "\n",
        "for tf in timeframes:\n",
        "    query = f\"SELECT * FROM backtest.spy_{tf}\"\n",
        "    data[tf] = pd.read_sql_query(query, engine)\n",
        "    print(f\"Loaded {tf} data: {data[tf].shape}\")\n"
      ]
    },
    {
      "cell_type": "code",
      "execution_count": null,
      "metadata": {},
      "outputs": [],
      "source": [
        "## Step 8: Upload and Train Your Model\n",
        "- **Option 1**: Upload `spy_prediction_model_v1.py` via the Colab file upload UI, then import it.\n",
        "- **Option 2**: Copy the contents of `spy_prediction_model_v1.py` into the cell below.\n",
        "- Assumes your pipeline is in a function called `run_full_pipeline`.\n"
      ]
    },
    {
      "cell_type": "code",
      "execution_count": null,
      "metadata": {},
      "outputs": [],
      "source": [
        "# Option 1: If uploaded\n",
        "from spy_prediction_model_v1 import run_full_pipeline\n",
        "\n",
        "# Run the pipeline\n",
        "run_full_pipeline(data)\n"
      ]
    },
    {
      "cell_type": "code",
      "execution_count": null,
      "metadata": {},
      "outputs": [],
      "source": [
        "## Step 9: Monitor and Close the Tunnel\n",
        "- Keep this notebook running during training.\n",
        "- After training, stop ngrok by pressing Ctrl+C in the terminal running `ngrok tcp 5433`.\n",
        "- The ngrok tunnel will automatically close when you stop the process.\n"
      ]
    },
    {
      "cell_type": "code",
      "execution_count": null,
      "metadata": {},
      "outputs": [],
      "source": [
        "## Notes\n",
        "- **Security**: Ensure your database credentials and ngrok authtoken are secure.\n",
        "- **Performance**: Ensure a stable internet connection for data transfer.\n",
        "- **Free Usage**: ngrok free tier provides secure tunneling without payment requirements.\n",
        "- **Troubleshooting**: If the connection fails, verify:\n",
        "  - ngrok tunnel is active (`ngrok tcp 5433` running).\n",
        "  - The Docker container (`tsdb`) is running.\n",
        "  - Your database credentials are correct.\n",
        "  - The ngrok host and port are correctly updated in the connection string.\n",
        "- **Schema**: Tables are explicitly queried from the `backtest` schema.\n",
        "- **TimescaleDB**: Your database is optimized for time-series data, ensuring efficient queries for large datasets.\n",
        "- **ngrok Benefits**: No router configuration, automatic HTTPS, and works from anywhere.\n"
      ]
    }
  ],
  "metadata": {
    "language_info": {
      "name": "python"
    }
  },
  "nbformat": 4,
  "nbformat_minor": 2
}
